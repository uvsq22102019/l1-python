{
 "cells": [
  {
   "cell_type": "markdown",
   "metadata": {
    "slideshow": {
     "slide_type": "slide"
    }
   },
   "source": [
    "# TD 2: Les structures de contrôle\n",
    "\n",
    "---\n",
    "\n",
    "## 0. Récupération des nouveaux documents\n",
    "\n",
    "\n",
    "Les sujets de TD ainsi que les supports de cours sont publiés en ligne au fur et à mesure sur l'espace github original [https://github.com/uvsq-info/l1-python](https://github.com/uvsq-info/l1-python). Au moment où vous avez fait le fork de cet espace sur votre espace personnel, il est probable que tous les contenus n'étaient pas présents. Pour compléter votre espace, deux solutions sont possibles:\n",
    "\n",
    "\n",
    "1. (solution à privilégier) aller sur la page du projet original [https://github.com/uvsq-info/l1-python](https://github.com/uvsq-info/l1-python), et cliquer sur le bouton vert `Code` en haut à droite. Choisir `download ZIP`, puis extraire l'ensemble des nouveaux fichiers vers votre projet personnel local. Vous pouvez ensuite sauvegarder ces ajouts dans votre espace github personnel en suivant la procédure habituelle.\n",
    "2. (solution qui présente des risques de conflits entre différentes versions d'un même document) en ligne de commande dans le terminal, en suivant la procédure de la section *Intégrer les mises à jour du projet original* du fichier [README.md](https://github.com/uvsq-info/l1-python/blob/master/README.md#int%C3%A9grer-les-mises-%C3%A0-jour-du-projet-original)\n"
   ]
  },
  {
   "cell_type": "markdown",
   "metadata": {
    "slideshow": {
     "slide_type": "slide"
    }
   },
   "source": [
    "---\n",
    "\n",
    "## 1. Premiers exercices avec les structures conditionnelles\n",
    "\n",
    "**Exercice 1:**\n",
    "\n",
    "1. Soit *num1 = 15* et *num2 = 5*. Ecrire un programme qui affiche *Factors!* si l'un des nombres est un facteur de l'autre (c'est-à-dire qu'il divise l'autre nombre). Si aucun des nombres n'est un facteur de l'autre, le programme n'affiche rien.\n",
    "2. Changer le code que vous avez écrit de telle sorte qu'il affiche toujours *Factors!* si un nombre est un facteur de l'autre, mais qui affiche aussi *Not factors!* si aucun des nombres n'est un facteur de l'autre."
   ]
  },
  {
   "cell_type": "code",
   "execution_count": 23,
   "metadata": {
    "slideshow": {
     "slide_type": "notes"
    }
   },
   "outputs": [
    {
     "name": "stdout",
     "output_type": "stream",
     "text": [
      "factors!\n"
     ]
    }
   ],
   "source": [
    "num1 = 5\n",
    "num2 = 15\n",
    "if num1 % num2 ==0 or num2 % num1 ==0:\n",
    "   print(\"factors!\")\n",
    "else:\n",
    "    print(\"not factors!\")"
   ]
  },
  {
   "cell_type": "markdown",
   "metadata": {
    "slideshow": {
     "slide_type": "slide"
    }
   },
   "source": [
    "**Exercice 2:**\n",
    "    \n",
    "Soit *state = \"Georgia\"*. Ecrire un programme qui permet d'afficher un message spécifique en fonction de la variable *state* :  \n",
    "* \"School isn't cancelled.\" si nous sommes à New Jersey,  \n",
    "* \"School is postponed.\" si nous sommes à North Carolina,\n",
    "* \"School is cancelled!\" si nous sommes à Georgia,  \n",
    "* \"School's status is unknown\" si nous ne sommes pas dans un des trois états précédemment mentionnés."
   ]
  },
  {
   "cell_type": "code",
   "execution_count": 22,
   "metadata": {
    "slideshow": {
     "slide_type": "notes"
    }
   },
   "outputs": [
    {
     "name": "stdout",
     "output_type": "stream",
     "text": [
      "SChool's status is unknown\n"
     ]
    }
   ],
   "source": [
    "state = \"New york\"\n",
    "if state == \"Georgia\":\n",
    "    print(\"School is cancelled\")\n",
    "elif state == \"New Jersey\":\n",
    "    print(\"School isn't cancelled\")\n",
    "elif state == \"North Carolina\":\n",
    "    print(\"School is postponed\")\n",
    "else:\n",
    "    print(\"SChool's status is unknown\")"
   ]
  },
  {
   "cell_type": "markdown",
   "metadata": {
    "slideshow": {
     "slide_type": "slide"
    }
   },
   "source": [
    "**Exercice 3:**\n",
    "\n",
    "Ecrire un programme pour découvrir le signe du zodiaque chinois pour une année donnée. Le signe du zodiaque chinois est basé sur un cycle de 12 ans et chaque année de ce cycle est représentée par un animal :\n",
    "* 0: monkey\n",
    "* 1: rooster\n",
    "* 2: dog\n",
    "* 3: pig\n",
    "* 4: rat\n",
    "* 5: ox\n",
    "* 6: tiger\n",
    "* 7: rabbit\n",
    "* 8: dragon\n",
    "* 9: snake\n",
    "* 10: horse\n",
    "* 11: sheep\n",
    "\n",
    "La valeur de l'année % 12 détermine le signe du zodiaque. Par exemple, 1900 est l'année du *rat* puisque 1900 % 12 est 4."
   ]
  },
  {
   "cell_type": "code",
   "execution_count": 1,
   "metadata": {
    "slideshow": {
     "slide_type": "notes"
    }
   },
   "outputs": [
    {
     "name": "stdout",
     "output_type": "stream",
     "text": [
      "sheep\n"
     ]
    }
   ],
   "source": [
    "n = int(input(\"Saisir un  année\"))\n",
    "a = n % 12\n",
    "if a == 0:\n",
    "    print(\"monkey\")\n",
    "elif a == 1:\n",
    "    print(\"rooster\")\n",
    "elif a == 2:\n",
    "    print(\"dog\")\n",
    "elif a == 3:\n",
    "    print(\"pig\")\n",
    "elif a == 4:\n",
    "    print(\"rat\")\n",
    "elif a == 5:\n",
    "    print(\"ox\")\n",
    "elif a == 6:\n",
    "    print(\"tiger\")\n",
    "elif a == 7:\n",
    "    print(\"rabbit\")\n",
    "elif a == 8:\n",
    "    print(\"dragon\")\n",
    "elif a == 9:\n",
    "    print(\"snake\")\n",
    "elif a == 10:\n",
    "    print(\"horse\")\n",
    "elif a == 11:\n",
    "    print(\"sheep\")"
   ]
  },
  {
   "cell_type": "markdown",
   "metadata": {
    "slideshow": {
     "slide_type": "slide"
    }
   },
   "source": [
    "**Exercice 4:**\n",
    "\n",
    "Soit *temperature = -3.7* et *celsius = True*. *celsius* est une variable booléenne qui indique si la température est en Celsius; si c'est *False*, alors la température donnée est en Fahrenheit. Ecrire un premier programme en utilisant *if-else* seulement qui permet d'afficher *Freezing* si les valeurs données représentent une température très basse, et *Not freezing* si ce n'est pas le cas. En Celsius, on considère qu'il fait très froid lorsque la température est inférieure ou égale à 0 degré. En Fahrenheit, on considère qu'il fait très froid lorsque la température est inférieure ou égale à 32 degrés. Proposer une seconde solution en utilisant *if-elif-else* à ce même problème."
   ]
  },
  {
   "cell_type": "code",
   "execution_count": 12,
   "metadata": {
    "slideshow": {
     "slide_type": "notes"
    }
   },
   "outputs": [
    {
     "name": "stdout",
     "output_type": "stream",
     "text": [
      "Not freezing\n"
     ]
    }
   ],
   "source": [
    "temperature, celsius= -3.7, True\n",
    "if temperature and celsius <= 0 or not celsius and temperature <=32:\n",
    "    print(\"Freezing\")\n",
    "else:\n",
    "    print(\"Not freezing\")"
   ]
  },
  {
   "cell_type": "markdown",
   "metadata": {
    "slideshow": {
     "slide_type": "slide"
    }
   },
   "source": [
    "**Exercice 5:**\n",
    "    \n",
    "Ecrire un programme qui permet de déterminer si une année est bissextile ou non en utilisant une seule instruction *if-else*. Une année *A* est bissextile si *A* est divisible par 4. Elle ne l’est cependant pas si *A* est un multiple\n",
    "de 100, à moins que *A* ne soit multiple de 400.    "
   ]
  },
  {
   "cell_type": "code",
   "execution_count": 8,
   "metadata": {
    "slideshow": {
     "slide_type": "notes"
    }
   },
   "outputs": [
    {
     "name": "stdout",
     "output_type": "stream",
     "text": [
      "Ce n'est pas une année bissextile\n"
     ]
    }
   ],
   "source": [
    "A =int(input(\"Saisir une année\"))\n",
    "if A % 4 == 0 and A % 100 !=0 or A % 400 == 0:\n",
    "    print(\"C'est une année bissextile\")\n",
    "else:\n",
    "    print(\"Ce n'est pas une année bissextile\")\n"
   ]
  },
  {
   "cell_type": "markdown",
   "metadata": {},
   "source": [
    "---\n",
    "\n",
    "## 2. Premiers exercices avec les structures itératives\n",
    "\n",
    "**Exercice 6:**\n",
    "\n",
    "1. Ecrire un programme qui permet d'afficher tous les nombres entre 1 et 10 (bornes incluses).\n",
    "2. Ecrire un programme se limitant à la boucle *for* qui permet d'afficher tous les nombres pairs entre 1 et 20 (bornes incluses). Proposer une deuxième solution en incluant une structure conditionnelle."
   ]
  },
  {
   "cell_type": "code",
   "execution_count": 9,
   "metadata": {},
   "outputs": [
    {
     "name": "stdout",
     "output_type": "stream",
     "text": [
      "[1, 2, 3, 4, 5, 6, 7, 8, 9]\n"
     ]
    }
   ],
   "source": [
    "liste =[x for x in range (1, 10)]\n",
    "print(liste)\n"
   ]
  },
  {
   "cell_type": "code",
   "execution_count": 19,
   "metadata": {},
   "outputs": [
    {
     "name": "stdout",
     "output_type": "stream",
     "text": [
      "1\n",
      "2\n",
      "3\n",
      "4\n",
      "5\n",
      "6\n",
      "7\n",
      "8\n",
      "9\n",
      "10\n"
     ]
    }
   ],
   "source": [
    "#correction\n",
    "for i in range(1, 11):\n",
    "    print(i)"
   ]
  },
  {
   "cell_type": "code",
   "execution_count": 8,
   "metadata": {},
   "outputs": [
    {
     "name": "stdout",
     "output_type": "stream",
     "text": [
      "[0, 2, 4, 6, 8, 10, 12, 14, 16, 18, 20]\n"
     ]
    }
   ],
   "source": [
    "list=[x for x in range (0,21,2)]\n",
    "print(liste)# !: ca veut dire différent"
   ]
  },
  {
   "cell_type": "code",
   "execution_count": 20,
   "metadata": {},
   "outputs": [
    {
     "name": "stdout",
     "output_type": "stream",
     "text": [
      "2\n",
      "4\n",
      "6\n",
      "8\n",
      "10\n",
      "12\n",
      "14\n",
      "16\n",
      "18\n",
      "20\n"
     ]
    }
   ],
   "source": [
    "#correction\n",
    "for i in range(2, 21, 2):\n",
    "    print(i)"
   ]
  },
  {
   "cell_type": "markdown",
   "metadata": {},
   "source": [
    "**Exercice 7:**\n",
    "    \n",
    "1. Ecrire un programme qui demande à l'utilisateur de saisir *n* nombres, *n* étant choisi par l'utilisateur, puis d'afficher la moyenne de ces nombres.\n",
    "\n",
    "2. Même question, mais l'utilisateur ne choisit pas à l'avance le nombre *n*, la procédure s'arrête quand il saisit le nombre -1.\n"
   ]
  },
  {
   "cell_type": "code",
   "execution_count": 11,
   "metadata": {},
   "outputs": [
    {
     "name": "stdout",
     "output_type": "stream",
     "text": [
      "La moyenne est : 2.0\n"
     ]
    }
   ],
   "source": [
    "n = int(input(\"Combien de nombres allez-vous choisir?\"))\n",
    "somme = 0\n",
    "for i in range (n):\n",
    "    nombre = int(input(\"Saississez un nombre\" + str(i)))\n",
    "    somme += nombre#equivalent de somme = somme + nombre\n",
    "print(\"La moyenne est :\", somme/n)\n"
   ]
  },
  {
   "cell_type": "code",
   "execution_count": null,
   "metadata": {},
   "outputs": [],
   "source": []
  },
  {
   "cell_type": "markdown",
   "metadata": {},
   "source": [
    "**Exercice 8:**\n",
    "\n",
    "Ecrire un programme qui permet de calculer le factoriel d'un nombre positif donné par l'utlisateur selon la formule suivante : \n",
    "n! = 1 x 2 x ... x n.  \n",
    "\n",
    "1. Une première version en utilisant la boucle *for*\n",
    "2. Une seconde version en utilisant la boucle *while*"
   ]
  },
  {
   "cell_type": "code",
   "execution_count": 13,
   "metadata": {},
   "outputs": [
    {
     "name": "stdout",
     "output_type": "stream",
     "text": [
      "120\n"
     ]
    }
   ],
   "source": [
    "n = int(input(\"Saisir un nombre\"))\n",
    "if n < 0:\n",
    "    print(\"mauvais nombre\")\n",
    "\n",
    "else:\n",
    "    fact = 1\n",
    "    for i in range (1, n+1) :\n",
    "        fact *= i\n",
    "    print( fact)"
   ]
  },
  {
   "cell_type": "code",
   "execution_count": 3,
   "metadata": {},
   "outputs": [
    {
     "name": "stdout",
     "output_type": "stream",
     "text": [
      "1\n",
      "2\n",
      "6\n",
      "24\n",
      "120\n"
     ]
    }
   ],
   "source": [
    "n = int(input(\"Saisir un nombre\"))\n",
    "fact = 1\n",
    "for i in range (1, n+1):\n",
    "        while n>= 1:\n",
    "                fact *= i\n",
    "                print(fact)\n",
    "                break\n",
    "   "
   ]
  },
  {
   "cell_type": "markdown",
   "metadata": {
    "slideshow": {
     "slide_type": "slide"
    }
   },
   "source": [
    "---\n",
    "\n",
    "## 3. Pour aller plus loin\n",
    "\n",
    "**Excercice 9:**\n",
    "\n",
    "Ecrire un programme qui permet de connaître le jour de naissance de l'utilisateur en posant cinq questions.\n",
    "Chaque question demande si le jour est dans l'un des cinq ensembles suivants :\n",
    "\n",
    "* Set 1: \\[1 3 5 7 9 11 13 15 17 19 21 23 25 27 29 31\\]\n",
    "* Set 2: \\[2 3 6 7 10 11 14 15 18 19 22 23 26 27 30 31\\]\n",
    "* Set 3: \\[4 5 6 7 12 13 14 15 20 21 22 23 28 29 30 31\\]\n",
    "* Set 4: \\[8 9 10 11 12 13 14 15 24 25 26 27 28 29 30 31\\]\n",
    "* Set 5: \\[16 17 18 19 20 21 22 23 24 25 26 27 28 29 30 31\\]\n",
    "    \n",
    "\n",
    "Le jour de naissance est la somme des premiers nombres dans les ensembles où le jour apparaît. Par exemple,\n",
    "si le jour de naissance est 19, il apparaît dans Set 1, Set 2 et Set 5. Les premiers chiffres de ces trois ensembles sont 1, 2 et 16. Leur somme est 19."
   ]
  },
  {
   "cell_type": "code",
   "execution_count": 3,
   "metadata": {
    "slideshow": {
     "slide_type": "notes"
    }
   },
   "outputs": [
    {
     "name": "stdout",
     "output_type": "stream",
     "text": [
      "Votre jour de naissance est le 2\n"
     ]
    }
   ],
   "source": [
    "jour_de_naissance = 0\n",
    "reponse = int(input(\"Votre jour de naissance est il dans le set 1 ( 0 = non et 1 = oui)1 3 5 7 9 11 13 15 17 19 21 23 25 27 29 31 \"))\n",
    "if reponse == 1:\n",
    "    jour_de_naissance += 1\n",
    "reponse = int(input(\"Votre jour de naissance est il dans le set 2 ( 0 = non et 1 = oui)2 3 6 7 10 11 14 15 18 19 22 23 26 27 30 31\"))\n",
    "if reponse == 1:\n",
    "    jour_de_naissance += 2\n",
    "reponse = int(input(\"Votre jour de naissance est il dans le set 3 ( 0 = non et 1 = oui) 4 5 6 7 12 13 14 15 20 21 22 23 28 29 30 31\"))\n",
    "if reponse == 1:\n",
    "    jour_de_naissance += 4\n",
    "reponse = int(input(\"Votre jour de naissance est il dans le set 4 ( 0 = non et 1 = oui) 8 9 10 11 12 13 14 15 24 25 26 27 28 29 30 31\"))\n",
    "if reponse == 1:\n",
    "    jour_de_naissance += 8\n",
    "reponse = int(input(\"Votre jour de naissance est il dans le set 5 ( 0 = non et 1 = oui) 16 17 18 19 20 21 22 23 24 25 26 27 28 29 30 31\"))\n",
    "if reponse == 1:\n",
    "    jour_de_naissance += 16\n",
    "\n",
    "print(\"Votre jour de naissance est le\", jour_de_naissance)\n",
    "\n"
   ]
  },
  {
   "cell_type": "markdown",
   "metadata": {
    "slideshow": {
     "slide_type": "slide"
    }
   },
   "source": [
    "**Excercice 10:**\n",
    "\n",
    "Ecrire un programme qui permet de génèrer de manière aléatoire un nombre à deux chiffres, invite l'utilisateur à saisir un nombre à deux chiffres et détermine si l'utilisateur gagne selon les règles suivantes :\n",
    "* Si l'entrée de l'utilisateur correspond à la loterie (le nombre généré aléatoirement) dans l'ordre exact, la récompense est de 10 000€.\n",
    "* Sinon, si les deux chiffres entrés par l'utilisateur correspondent aux deux chiffres du numéro de loterie, la récompense est de 3 000€.\n",
    "* Sinon, si un chiffre dans l'entrée de l'utilisateur correspond à un chiffre dans le numéro de loterie, la récompense est de 1 000€.\n",
    "\n",
    "**Astuce :** Utiliser la fonction **random.randint(0, 99)** pour génèrer de manière aléatoire un nombre à deux chiffres. Cette fonction doit être accompagné par **import random** comme première instruction dans le code."
   ]
  },
  {
   "cell_type": "code",
   "execution_count": 5,
   "metadata": {
    "slideshow": {
     "slide_type": "notes"
    }
   },
   "outputs": [
    {
     "name": "stdout",
     "output_type": "stream",
     "text": [
      "votre recompense est de 1 000€\n"
     ]
    }
   ],
   "source": [
    "import random\n",
    "aleatoire = random.randint(0,99)\n",
    "aleatoire_dizaine = aleatoire // 10\n",
    "aleatoire_unite = aleatoire % 10\n",
    "\n",
    "proposition = int(input(\"Saisir un nombre à 2 chiffres\"))\n",
    "propsition_dizaine = proposition // 10\n",
    "proposition_unite = proposition % 10\n",
    "\n",
    "if aleatoire == proposition:\n",
    "    print(\"Votre récompense est de 10 000€\")\n",
    "elif aleatoire_dizaine == proposition_unite and aleatoire_unite == propsition_dizaine:\n",
    "    print(\"Votre recompense est de 3 000 €\")\n",
    "elif aleatoire_dizaine == propsition_dizaine or aleatoire_dizaine == proposition_unite or aleatoire_unite == propsition_dizaine or aleatoire_unite == proposition_unite:\n",
    "    print(\"votre recompense est de 1 000€\")\n",
    "else:\n",
    "    print(\"Vous avez perdu\")\n",
    "\n"
   ]
  },
  {
   "cell_type": "markdown",
   "metadata": {},
   "source": [
    "**Exercice 11:**\n",
    "    \n",
    "Ecrire un programme qui permet de calculer la somme des chiffres d'un entier *n* donné. Le nombre *n* doit être compris entre 10 et 20 (bornes incluses)."
   ]
  },
  {
   "cell_type": "code",
   "execution_count": 25,
   "metadata": {},
   "outputs": [
    {
     "name": "stdout",
     "output_type": "stream",
     "text": [
      "La somme de votre nombre est 6\n"
     ]
    }
   ],
   "source": [
    "n = int(input(\"saisir un nombre\"))\n",
    "n_dizaine = n // 10\n",
    "n_unite = n % 10\n",
    "\n",
    "if n >= 10 and n <= 20:\n",
    "    somme = n_dizaine + n_unite\n",
    "    print(\"La somme de votre nombre est\", somme)\n",
    "else:\n",
    "    print(\"Choississez un autre nombre\")\n"
   ]
  },
  {
   "cell_type": "markdown",
   "metadata": {},
   "source": [
    "**Exercice 12:**\n",
    "\n",
    "1. Ecrire un programme qui permet de générer aléatoirement deux nombres entre 0 et 9, de calculer leurs différences (en valeur absolue), puis d'inviter l'utilisateur à répondre à la question suivante *que vaut abs(number1 - number2)?*. Le programme doit permettre à l'utilisateur de répondre plusieurs fois jusqu'à la saisie de la bonne réponse.\n",
    "2. Modifier le programme précédent de telle sorte qu'il génère cinq occurences à la suite invitant à répondre à la question précédente. A la fin, le programme affiche le nombre moyen de tentatives qu'il a fallu à l'utilisateur pour répondre à une question."
   ]
  },
  {
   "cell_type": "code",
   "execution_count": 6,
   "metadata": {
    "tags": []
   },
   "outputs": [
    {
     "name": "stdout",
     "output_type": "stream",
     "text": [
      "Le nombre 1 est 0 le nombre 2 est 3\n",
      "Bravo\n"
     ]
    }
   ],
   "source": [
    "import random\n",
    "nb_1 = random.randint(0, 9)\n",
    "nb_2 = random.randint(0, 9)\n",
    "print(\"Le nombre 1 est\", nb_1, \"le nombre 2 est\", nb_2)\n",
    "resultat = abs(nb_1 - nb_2)\n",
    "\n",
    "proposition = int(input(\"Que vaut abs(nb_1 - nb_2\"))\n",
    "while proposition != resultat:\n",
    "    proposition = int(input(\"Que vaut la valeur absolue?\"))\n",
    "print(\"Bravo\")\n"
   ]
  },
  {
   "cell_type": "code",
   "execution_count": 13,
   "metadata": {},
   "outputs": [
    {
     "name": "stdout",
     "output_type": "stream",
     "text": [
      "Le nombre 1 est 7 le nombre 2 est 2\n",
      "Le nombre 1 est 9 le nombre 2 est 8\n",
      "Le nombre 1 est 3 le nombre 2 est 1\n",
      "Le nombre 1 est 9 le nombre 2 est 3\n",
      "Le nombre 1 est 4 le nombre 2 est 9\n",
      "Vous avez trouvé apres 5.6\n"
     ]
    }
   ],
   "source": [
    "import random\n",
    "moy_essais = 0\n",
    "for i in range(5):\n",
    "    nb_1 = random.randint(0, 9)\n",
    "    nb_2 = random.randint(0, 9)\n",
    "    print(\"Le nombre 1 est\", nb_1, \"le nombre 2 est\", nb_2)\n",
    "    resultat = abs(nb_1 - nb_2)\n",
    "    proposition = -1\n",
    "    nb_tentative = 0\n",
    "    \n",
    "\n",
    "    while proposition != resultat:\n",
    "        proposition = int(input(\"Que vaut la valeur absolue\"))\n",
    "        nb_tentative += 1\n",
    "    moy_essais += nb_tentative\n",
    "print(\"Vous avez trouvé apres\", moy_essais/5)\n",
    "\n"
   ]
  },
  {
   "cell_type": "markdown",
   "metadata": {},
   "source": [
    "**Exercice 13:**\n",
    "\n",
    "Ecrire un programme qui permet de calculer le nombre de mots dans une phrase saisie par l'utilisateur."
   ]
  },
  {
   "cell_type": "code",
   "execution_count": 6,
   "metadata": {
    "tags": []
   },
   "outputs": [
    {
     "name": "stdout",
     "output_type": "stream",
     "text": [
      "3\n"
     ]
    }
   ],
   "source": [
    "chaine = input(\"Saisir une chaine\")\n",
    "compteur = 1\n",
    "for caractere in chaine :\n",
    "    if caractere == \" \":\n",
    "        compteur += 1\n",
    "print(compteur)"
   ]
  },
  {
   "cell_type": "markdown",
   "metadata": {
    "slideshow": {
     "slide_type": "slide"
    }
   },
   "source": [
    "---\n",
    "\n",
    "## 4. Pour s'entraîner\n",
    "\n",
    "**Exercice 14:**\n",
    "    \n",
    "Soit la variable my_input = \"zoophysiology\". Ecrire un script qui permet d'afficher l'un des messages suivants en fonction du nombre maximum de *o* consécutifs dans la variable *my_input*. Par exemple, le script doit afficher \"I like studying birds! I want to become an ornithologist!\" parce qu'il y a deux *o* consécutifs, même s'il y a aussi des *o* individual.\n",
    "Ignorer les *o* majuscules - recherchez que les *o* minuscules.\n",
    "\n",
    "* Si \"o\" apparaît trois fois ou plus de suite, afficher le message \"I like going to the zoo!\"  \n",
    "* Si \"o\" apparaît deux fois, afficher le message \"I like studying birds! I want to become an ornithologist!\"  \n",
    "* Si \"o\" apparaît une seule fois, afficher le message \"I like studying fish! I want to become an ichthyologist!\"  \n",
    "* Si \"o\" n'apparaît pas dans la variable *my_input*, afficher le message \"I miss going to the zoo!\"  \n",
    "\n",
    "**Astuce :** Utiliser l'opérateur **in** qui renvoie **True** si la première chaîne se trouve dans la deuxième chaîne. "
   ]
  },
  {
   "cell_type": "code",
   "execution_count": null,
   "metadata": {
    "slideshow": {
     "slide_type": "notes"
    }
   },
   "outputs": [
    {
     "name": "stdout",
     "output_type": "stream",
     "text": [
      "I miss going to the zoo\n"
     ]
    }
   ],
   "source": [
    "my_input = \"zoophysiology\"\n",
    "if \"ooo\" in my_input:\n",
    "    print(\"I like going to the zoo\")\n",
    "elif \"oo\" in my_input:\n",
    "    print(\"I like studying birds! I want to become an ornithologist!\")\n",
    "elif \"o\" in my_input:\n",
    "    print(\"I like studying fish! I want to become an ichthyologist\")\n",
    "else:\n",
    "    print(\"I miss going to the zoo\")"
   ]
  },
  {
   "cell_type": "markdown",
   "metadata": {
    "slideshow": {
     "slide_type": "slide"
    }
   },
   "source": [
    "**Exercice 15:**\n",
    "    \n",
    "Créer quatre variables nommées *team_1* et *team_2*, représentant deux noms d'équipes, et *team_1_score* et *team_2_score*, représentant les scores de ces deux équipes. \n",
    "Une équipe gagne si son score est supérieur à l'autre score de l'autre équipe.\n",
    " \n",
    "Ecrire un premier script qui permet d'afficher les messages suivants selon les valeurs entrées, ceci en utilisant seulement les quatres variables créées :\n",
    "* Si une équipe bat l'autre, affichez: \"\\[winner\\] beat \\[loser\\] by \\[margin\\]\"\n",
    "* Si aucune des équipes n'a gagné, affichez: \"\\[team_1\\] played \\[team_2\\] and it was a tie\"\n",
    "\n",
    "Ecrire un deuxième script qui permet d'afficher les mêmes messages mais en ajoutant trois variables de plus :\n",
    "* La variable *winner* pour définir l'équipe gagnante  \n",
    "* La variable *loser* pour définier l'équipe perdante  \n",
    "* La variable *margin* pour définir la différence entre les deux scores \n"
   ]
  },
  {
   "cell_type": "code",
   "execution_count": null,
   "metadata": {
    "slideshow": {
     "slide_type": "notes"
    }
   },
   "outputs": [
    {
     "name": "stdout",
     "output_type": "stream",
     "text": [
      "m played k and it was a tie\n"
     ]
    }
   ],
   "source": [
    "team_1 = input(\"donner un nom\")\n",
    "team_2 = input(\"donner un nom\")\n",
    "team_1_score = int(input(\"donner un score\"))\n",
    "team_2_score = int(input(\"donner un score \"))\n",
    "\n",
    "if team_2_score <team_1_score:\n",
    "    margin = team_1_score - team_2_score\n",
    "    print(team_1, \"beat\", team_2, \"by\", margin)\n",
    "elif team_2_score > team_1_score:\n",
    "    margin = team_2_score - team_1_score\n",
    "    print(team_2, \"beat\", team_1, \"by\", margin)\n",
    "else:\n",
    "    team_1_score == team_2_score\n",
    "    print(team_1, \"played\", team_2, \"and it was a tie\")"
   ]
  },
  {
   "cell_type": "code",
   "execution_count": null,
   "metadata": {
    "slideshow": {
     "slide_type": "notes"
    }
   },
   "outputs": [
    {
     "name": "stdout",
     "output_type": "stream",
     "text": [
      "l played k and it was a tie\n"
     ]
    }
   ],
   "source": [
    "team_1 = input(\"donner un nom\")\n",
    "team_2 = input(\"donner un nom\")\n",
    "team_1_score = int(input(\"donner un score\"))\n",
    "team_2_score = int(input(\"donner un score\"))\n",
    "margin = 0\n",
    "if team_1_score > team_2_score:\n",
    "    winner, loser, margin = team_1, team_2, team_1_score - team_2_score\n",
    "elif team_1_score < team_2_score:\n",
    "    winner, loser, margin = team_2, team_1, team_2_score - team_1_score\n",
    "\n",
    "\n",
    "if margin > 0:\n",
    "    print(winner, \"beat\", loser, \"by\", margin)\n",
    "else:\n",
    "    print(team_1, \"played\", team_2, \"and it was a tie\")\n"
   ]
  },
  {
   "cell_type": "markdown",
   "metadata": {
    "slideshow": {
     "slide_type": "slide"
    }
   },
   "source": [
    "**Exercice 16:**\n",
    "    \n",
    "L'Indice de Masse Corporelle (IMC) permet d'estimer le poids idéal en fonction de la taille. Son calcul correspond au poids en kilogrammes divisé par le carré de la taille en mètre (IMC = poids en kg/taille² en m). Le chiffre obtenu permet d'estimer la corpulence et éventuellement le surpoids ou l'obésité chez l'adulte, homme ou femme.\n",
    "L'interprétation de l'IMC pour les personnes de 16 ans et plus est la suivante :\n",
    "* Moins de 18.5: Underweight\n",
    "* Entre 18.5 et 24.9: Normal\n",
    "* Entre 25.0 et 29.9: Overweight\n",
    "* Plus que 30.0: Obese\n",
    "\n",
    "Ecrire un programme qui permet de saisir un poids en *pounds* et une taille en *inches*, de calculer et d'afficher l'IMC à deux valeurs après la virgule, et d'afficher l'interprétation la plus adéquate. Notez qu'un *pound* équivaut à 0,45359237 kilogrammes et qu'un *inch* équivaut à 0,0254 mètre.  \n",
    "\n",
    "**Astuce :** Pour afficher deux valeurs après la virgule, utilisez la fonction **format(nom_variable, \".2f\")**. Exemple : **print('La moyenne est :', format(moyenne, \".2f\"))**"
   ]
  },
  {
   "cell_type": "code",
   "execution_count": 3,
   "metadata": {
    "slideshow": {
     "slide_type": "notes"
    }
   },
   "outputs": [
    {
     "name": "stdout",
     "output_type": "stream",
     "text": [
      "154.32\n",
      "68.90\n",
      "votre imc est de: 22.86\n",
      "Normal\n"
     ]
    }
   ],
   "source": [
    "poids = float(input(\"Saisir un poids\"))\n",
    "taille = float(input(\"Saisir une taille\"))\n",
    "print(format(poids, \".2f\"))\n",
    "print(format(taille, \".2f\"))\n",
    "\n",
    "taille = taille * 0.0254\n",
    "poids = poids * 0.453592377\n",
    "\n",
    "IMC = poids / (taille * taille)\n",
    "print(\"votre imc est de:\", format(IMC,\".2f\"))\n",
    "\n",
    "\n",
    "if IMC < 18.5:\n",
    "    print(\"Underweight\")\n",
    "elif IMC <= 24.9:\n",
    "    print(\"Normal\")\n",
    "elif IMC <= 29.9:\n",
    "    print(\"Overweight\")\n",
    "elif IMC >= 30.0:\n",
    "    print(\"Obese\")"
   ]
  },
  {
   "cell_type": "markdown",
   "metadata": {},
   "source": [
    "**Exercice 17:**\n",
    "\n",
    "Ecrire un programme qui affiche un triangle d'étoiles de taille donnée, par exemple si on entre 6, le programme affiche:\n",
    "```\n",
    "*\n",
    "**\n",
    "***\n",
    "****\n",
    "*****\n",
    "******\n",
    "```"
   ]
  },
  {
   "cell_type": "code",
   "execution_count": 10,
   "metadata": {
    "tags": []
   },
   "outputs": [
    {
     "name": "stdout",
     "output_type": "stream",
     "text": [
      "*\n",
      "**\n",
      "***\n",
      "****\n",
      "*****\n"
     ]
    }
   ],
   "source": [
    "n = int(input(\"donner n\"))\n",
    "for i in range (1, n+1):\n",
    "    print(i * \"*\")"
   ]
  },
  {
   "cell_type": "markdown",
   "metadata": {},
   "source": [
    "**Exercice 18:**\n",
    "\n",
    "Même exercice mais cette fois la sortie est\n",
    "```\n",
    "     *\n",
    "    **         \n",
    "   ***\n",
    "  ****\n",
    " *****\n",
    "******\n",
    "```"
   ]
  },
  {
   "cell_type": "code",
   "execution_count": 1,
   "metadata": {
    "tags": []
   },
   "outputs": [
    {
     "name": "stdout",
     "output_type": "stream",
     "text": [
      "     *\n",
      "    **\n",
      "   ***\n",
      "  ****\n",
      " *****\n",
      "******\n"
     ]
    }
   ],
   "source": [
    "n = int(input(\"donner n\"))\n",
    "for i in range (1, n+1):\n",
    "    print(\" \"* (n-i) + i * \"*\")"
   ]
  },
  {
   "cell_type": "code",
   "execution_count": null,
   "metadata": {},
   "outputs": [
    {
     "name": "stdout",
     "output_type": "stream",
     "text": [
      "          *\n",
      "         ^^^\n",
      "        ^^^^^\n",
      "       ^^^^^^^\n",
      "      ^^^^^^^^^\n",
      "     ^^^^^^^^^^^\n",
      "    ^^^^^^^^^^^^^\n",
      "   ^^^^^^^^^^^^^^^\n",
      "  ^^^^^^^^^^^^^^^^^\n",
      " ^^^^^^^^^^^^^^^^^^^\n",
      "^^^^^^^^^^^^^^^^^^^^^\n",
      "          ##\n",
      "          ##\n"
     ]
    }
   ],
   "source": [
    "nb_choisi = int(input(\"Choisir un chiffre\"))\n",
    "nb_espace = nb_choisi\n",
    "print(((nb_espace//2)-1)*\" \"+\"*\")\n",
    "for i in range ( 3,nb_choisi+1,2):\n",
    "    print(((nb_espace-i)//2)*\" \"+i* \"^\")\n",
    "if nb_espace%2 !=1:\n",
    "    nb_espace -= 2\n",
    "else:\n",
    "    nb_espace = nb_espace\n",
    "for i in range(2):\n",
    "    print((nb_espace//2)*\" \"+\"##\")"
   ]
  },
  {
   "cell_type": "markdown",
   "metadata": {},
   "source": [
    "**Exercice 19:**\n",
    "\n",
    "Ecrire un programme qui calcule, étant donné un entier *n* rentré par l'utilisateur, la plus grande puissance de *n* inférieure à un million."
   ]
  },
  {
   "cell_type": "code",
   "execution_count": null,
   "metadata": {
    "tags": []
   },
   "outputs": [
    {
     "name": "stdout",
     "output_type": "stream",
     "text": [
      "la plus grande puissance de  5 inferieure a un million est 1\n",
      "la plus grande puissance de  5 inferieure a un million est 2\n",
      "la plus grande puissance de  5 inferieure a un million est 3\n",
      "la plus grande puissance de  5 inferieure a un million est 4\n",
      "la plus grande puissance de  5 inferieure a un million est 5\n",
      "la plus grande puissance de  5 inferieure a un million est 6\n",
      "la plus grande puissance de  5 inferieure a un million est 7\n",
      "la plus grande puissance de  5 inferieure a un million est 8\n"
     ]
    }
   ],
   "source": [
    "n = int(input(\"Donner un nombre entier\"))\n",
    "resultat, puissance = 0, 0\n",
    "while resultat < 1000000:\n",
    "    puissance += 1\n",
    "    resultat = n ** (puissance + 1)\n",
    "    print(\"la plus grande puissance de \", n, \"inferieure a un million est\", puissance)"
   ]
  },
  {
   "cell_type": "code",
   "execution_count": null,
   "metadata": {},
   "outputs": [
    {
     "name": "stdout",
     "output_type": "stream",
     "text": [
      "PGCD de 8 et 4 est 4\n"
     ]
    }
   ],
   "source": [
    "a= int(input(\"choisir un chiffre\"))\n",
    "b=int(input(\"chosir un chiffre\"))\n",
    "if a>b:\n",
    "    min = b\n",
    "else:\n",
    "    min = a\n",
    "for i in range(1, min+1):\n",
    "    if a % i == 0 and b % i == 0:\n",
    "        PGCD = i\n",
    "print(\"PGCD de\", a, \"et\", b, \"est\", PGCD)"
   ]
  },
  {
   "cell_type": "code",
   "execution_count": null,
   "metadata": {},
   "outputs": [
    {
     "name": "stdout",
     "output_type": "stream",
     "text": [
      "123\n"
     ]
    }
   ],
   "source": [
    "#grand 3 exercice 2\n",
    "n = int(input(\"Saisir un n\"))\n",
    "p = 0\n",
    "for i in range (n):\n",
    "    p = p+120+3*n\n",
    "    print(p)"
   ]
  },
  {
   "cell_type": "code",
   "execution_count": null,
   "metadata": {},
   "outputs": [
    {
     "name": "stdout",
     "output_type": "stream",
     "text": [
      "4\n",
      "3\n",
      "2\n",
      "1\n",
      "0\n"
     ]
    }
   ],
   "source": [
    "cpt = 5\n",
    "while cpt > 0:\n",
    "    cpt -= 1\n",
    "    print(cpt)"
   ]
  },
  {
   "cell_type": "code",
   "execution_count": null,
   "metadata": {},
   "outputs": [
    {
     "name": "stdout",
     "output_type": "stream",
     "text": [
      "19\n",
      "18\n",
      "17\n",
      "16\n",
      "15\n",
      "14\n",
      "13\n",
      "12\n",
      "11\n"
     ]
    }
   ],
   "source": [
    "#grand 3 exercice 3\n",
    "n = int(input('saisir un n'))\n",
    "for i in range(1 ,n-10):\n",
    "    while n > 0:\n",
    "        n -=1\n",
    "        n != n-10\n",
    "        print(n)\n",
    "        break"
   ]
  },
  {
   "cell_type": "code",
   "execution_count": null,
   "metadata": {},
   "outputs": [
    {
     "name": "stdout",
     "output_type": "stream",
     "text": [
      "19\n",
      "18\n",
      "17\n",
      "16\n",
      "15\n",
      "14\n",
      "13\n",
      "12\n",
      "11\n",
      "10\n"
     ]
    }
   ],
   "source": [
    "n = int(input(\"Saisir un n\"))\n",
    "for i in range (10):\n",
    "    n -=1\n",
    "    print(n)"
   ]
  },
  {
   "cell_type": "code",
   "execution_count": null,
   "metadata": {},
   "outputs": [
    {
     "ename": "ValueError",
     "evalue": "invalid literal for int() with base 10: ''",
     "output_type": "error",
     "traceback": [
      "\u001b[1;31m---------------------------------------------------------------------------\u001b[0m",
      "\u001b[1;31mValueError\u001b[0m                                Traceback (most recent call last)",
      "\u001b[1;32mc:\\Users\\Gladys\\l1-python\\exercises\\TD02_structures_controle\\02_structures_controle.ipynb Cellule 53\u001b[0m in \u001b[0;36m<cell line: 2>\u001b[1;34m()\u001b[0m\n\u001b[0;32m      <a href='vscode-notebook-cell:/c%3A/Users/Gladys/l1-python/exercises/TD02_structures_controle/02_structures_controle.ipynb#Y103sZmlsZQ%3D%3D?line=0'>1</a>\u001b[0m \u001b[39m#grand 2 exercice 1\u001b[39;00m\n\u001b[1;32m----> <a href='vscode-notebook-cell:/c%3A/Users/Gladys/l1-python/exercises/TD02_structures_controle/02_structures_controle.ipynb#Y103sZmlsZQ%3D%3D?line=1'>2</a>\u001b[0m a \u001b[39m=\u001b[39m \u001b[39mint\u001b[39;49m(\u001b[39minput\u001b[39;49m(\u001b[39m\"\u001b[39;49m\u001b[39mSaisir un entier\u001b[39;49m\u001b[39m\"\u001b[39;49m))\n\u001b[0;32m      <a href='vscode-notebook-cell:/c%3A/Users/Gladys/l1-python/exercises/TD02_structures_controle/02_structures_controle.ipynb#Y103sZmlsZQ%3D%3D?line=2'>3</a>\u001b[0m b \u001b[39m=\u001b[39m \u001b[39mint\u001b[39m(\u001b[39minput\u001b[39m(\u001b[39m\"\u001b[39m\u001b[39mSaisir un n\u001b[39m\u001b[39m\"\u001b[39m))\n\u001b[0;32m      <a href='vscode-notebook-cell:/c%3A/Users/Gladys/l1-python/exercises/TD02_structures_controle/02_structures_controle.ipynb#Y103sZmlsZQ%3D%3D?line=3'>4</a>\u001b[0m \u001b[39mif\u001b[39;00m a \u001b[39m<\u001b[39m b:\n",
      "\u001b[1;31mValueError\u001b[0m: invalid literal for int() with base 10: ''"
     ]
    }
   ],
   "source": [
    "#grand 2 exercice 1\n",
    "a = int(input(\"Saisir un entier\"))\n",
    "b = int(input(\"Saisir un n\"))\n",
    "if a < b:\n",
    "    a, b = b, a\n",
    "    print(a,b)\n",
    "else:\n",
    "    print(a,b)"
   ]
  },
  {
   "cell_type": "code",
   "execution_count": null,
   "metadata": {},
   "outputs": [
    {
     "name": "stdout",
     "output_type": "stream",
     "text": [
      "Diviseur\n"
     ]
    }
   ],
   "source": [
    "#grand 2 Exercice 2\n",
    "import random\n",
    "a = random.randint(1,99)\n",
    "b= int(input(\"saisir un n\"))\n",
    "if b > 1 and a%b == 0:\n",
    "    print (\"Diviseur\")"
   ]
  },
  {
   "cell_type": "code",
   "execution_count": null,
   "metadata": {},
   "outputs": [
    {
     "name": "stdout",
     "output_type": "stream",
     "text": [
      "16 -8\n"
     ]
    }
   ],
   "source": [
    "#grand 2 exercice 3\n",
    "var1 = int(input(\"saisir un n\"))\n",
    "var2 = int (input(\"Saisir un n\"))\n",
    "if var1>0 and var2>0 or var1<0 and var2<0:\n",
    "    var1 , var2 = var2, var1\n",
    "else:\n",
    "    var1, var2 = var1**var2, var1*var2\n",
    "print(var1, var2)"
   ]
  },
  {
   "cell_type": "code",
   "execution_count": null,
   "metadata": {},
   "outputs": [
    {
     "name": "stdout",
     "output_type": "stream",
     "text": [
      "<class 'bool'>\n"
     ]
    }
   ],
   "source": [
    "print(type(12==3*4))"
   ]
  },
  {
   "cell_type": "code",
   "execution_count": 2,
   "metadata": {},
   "outputs": [
    {
     "ename": "ValueError",
     "evalue": "invalid literal for int() with base 10: 'deux'",
     "output_type": "error",
     "traceback": [
      "\u001b[1;31m---------------------------------------------------------------------------\u001b[0m",
      "\u001b[1;31mValueError\u001b[0m                                Traceback (most recent call last)",
      "\u001b[1;32mc:\\Users\\Gladys\\l1-python\\exercises\\TD02_structures_controle\\02_structures_controle.ipynb Cellule 58\u001b[0m in \u001b[0;36m<cell line: 2>\u001b[1;34m()\u001b[0m\n\u001b[0;32m      <a href='vscode-notebook-cell:/c%3A/Users/Gladys/l1-python/exercises/TD02_structures_controle/02_structures_controle.ipynb#Y111sZmlsZQ%3D%3D?line=0'>1</a>\u001b[0m s \u001b[39m=\u001b[39m \u001b[39minput\u001b[39m(\u001b[39m\"\u001b[39m\u001b[39mentrer un nombre entier\u001b[39m\u001b[39m\\n\u001b[39;00m\u001b[39m\"\u001b[39m)\n\u001b[1;32m----> <a href='vscode-notebook-cell:/c%3A/Users/Gladys/l1-python/exercises/TD02_structures_controle/02_structures_controle.ipynb#Y111sZmlsZQ%3D%3D?line=1'>2</a>\u001b[0m \u001b[39mprint\u001b[39m(\u001b[39m\"\u001b[39m\u001b[39mle nombre qui le précède est\u001b[39m\u001b[39m\"\u001b[39m, \u001b[39mint\u001b[39;49m(s) \u001b[39m-\u001b[39m \u001b[39m1\u001b[39m)\n",
      "\u001b[1;31mValueError\u001b[0m: invalid literal for int() with base 10: 'deux'"
     ]
    }
   ],
   "source": [
    "s = input(\"entrer un nombre entier\\n\")\n",
    "print(\"le nombre qui le précède est\", int(s) - 1)"
   ]
  },
  {
   "cell_type": "code",
   "execution_count": 4,
   "metadata": {},
   "outputs": [
    {
     "ename": "TypeError",
     "evalue": "can only concatenate str (not \"int\") to str",
     "output_type": "error",
     "traceback": [
      "\u001b[1;31m---------------------------------------------------------------------------\u001b[0m",
      "\u001b[1;31mTypeError\u001b[0m                                 Traceback (most recent call last)",
      "\u001b[1;32mc:\\Users\\Gladys\\l1-python\\exercises\\TD02_structures_controle\\02_structures_controle.ipynb Cellule 59\u001b[0m in \u001b[0;36m<cell line: 2>\u001b[1;34m()\u001b[0m\n\u001b[0;32m      <a href='vscode-notebook-cell:/c%3A/Users/Gladys/l1-python/exercises/TD02_structures_controle/02_structures_controle.ipynb#Y112sZmlsZQ%3D%3D?line=0'>1</a>\u001b[0m x, y \u001b[39m=\u001b[39m \u001b[39m2\u001b[39m, \u001b[39m3.5\u001b[39m\n\u001b[1;32m----> <a href='vscode-notebook-cell:/c%3A/Users/Gladys/l1-python/exercises/TD02_structures_controle/02_structures_controle.ipynb#Y112sZmlsZQ%3D%3D?line=1'>2</a>\u001b[0m s \u001b[39m=\u001b[39m \u001b[39m\"\u001b[39;49m\u001b[39mx vaut \u001b[39;49m\u001b[39m\"\u001b[39;49m \u001b[39m+\u001b[39;49m x \u001b[39m+\u001b[39m \u001b[39m\"\u001b[39m\u001b[39m et y vaut \u001b[39m\u001b[39m\"\u001b[39m \u001b[39m+\u001b[39m y\n\u001b[0;32m      <a href='vscode-notebook-cell:/c%3A/Users/Gladys/l1-python/exercises/TD02_structures_controle/02_structures_controle.ipynb#Y112sZmlsZQ%3D%3D?line=2'>3</a>\u001b[0m \u001b[39mprint\u001b[39m(s)\n",
      "\u001b[1;31mTypeError\u001b[0m: can only concatenate str (not \"int\") to str"
     ]
    }
   ],
   "source": [
    "x, y = 2, 3.5\n",
    "s = \"x vaut \" + x + \" et y vaut \" + y\n",
    "print(s)"
   ]
  },
  {
   "cell_type": "code",
   "execution_count": 15,
   "metadata": {},
   "outputs": [
    {
     "name": "stdout",
     "output_type": "stream",
     "text": [
      "1024\n"
     ]
    }
   ],
   "source": [
    "a = 2 ** 10\n",
    "print(a)"
   ]
  },
  {
   "cell_type": "code",
   "execution_count": 11,
   "metadata": {},
   "outputs": [
    {
     "name": "stdout",
     "output_type": "stream",
     "text": [
      "5\n",
      "6\n"
     ]
    }
   ],
   "source": [
    "a, b = 2, 3\n",
    "a += b\n",
    "print(a)\n",
    "a += 1\n",
    "print(a)"
   ]
  },
  {
   "cell_type": "code",
   "execution_count": 14,
   "metadata": {},
   "outputs": [
    {
     "name": "stdout",
     "output_type": "stream",
     "text": [
      "False <class 'bool'>\n"
     ]
    }
   ],
   "source": [
    "a = (5 < 2)\n",
    "print(a, type(a))"
   ]
  },
  {
   "cell_type": "code",
   "execution_count": 7,
   "metadata": {},
   "outputs": [
    {
     "name": "stdout",
     "output_type": "stream",
     "text": [
      "break\n",
      "break\n",
      "break\n",
      "break\n",
      "else\n"
     ]
    }
   ],
   "source": [
    "n = int(input(\"choisir un nombre: \"))\n",
    "for i in range(1,5):\n",
    "  if n % 2 == 0:\n",
    "    print(\"break\")\n",
    "else: \n",
    "  print(\"else\")\n"
   ]
  },
  {
   "cell_type": "code",
   "execution_count": 19,
   "metadata": {},
   "outputs": [
    {
     "name": "stdout",
     "output_type": "stream",
     "text": [
      "Afficher les valeurs dans l'intervalle:\n",
      "i = 0\n",
      "i = 1\n",
      "i = 2\n",
      "i = 3\n",
      "i = 4\n",
      "i = 5\n",
      "i = 6\n",
      "i = 7\n",
      "i = 8\n",
      "i = 9\n",
      "i = 10\n",
      "Terminé\n"
     ]
    }
   ],
   "source": [
    "print(\"Afficher les valeurs dans l'intervalle:\")\n",
    "for i in range(11) :\n",
    "    print(\"i =\", i)\n",
    "print(\"Terminé\")"
   ]
  },
  {
   "cell_type": "code",
   "execution_count": 20,
   "metadata": {},
   "outputs": [
    {
     "name": "stdout",
     "output_type": "stream",
     "text": [
      "Avant addition i = 1\n",
      "Après addition i = 2\n",
      "Avant addition i = 4\n",
      "Après addition i = 5\n",
      "Avant addition i = 7\n",
      "Après addition i = 8\n",
      "Avant addition i = 10\n",
      "Après addition i = 11\n",
      "Dernière valeur, i = 11\n",
      "Terminé\n"
     ]
    }
   ],
   "source": [
    "for i in range(1, 11, 3) :\n",
    "    print(\"Avant addition i =\", i)\n",
    "    i += 1\n",
    "    print(\"Après addition i =\", i)\n",
    "print(\"Dernière valeur, i =\", i)\n",
    "print(\"Terminé\")"
   ]
  },
  {
   "cell_type": "code",
   "execution_count": 21,
   "metadata": {},
   "outputs": [
    {
     "name": "stdout",
     "output_type": "stream",
     "text": [
      "La moyenne de [23, 43, 56, 22, 109, 34] vaut 47.833333333333336\n"
     ]
    }
   ],
   "source": [
    "liste_de_nombres = [23, 43, 56, 22, 109, 34]\n",
    "sum = 0\n",
    "\n",
    "for nb in liste_de_nombres :\n",
    "    sum += nb\n",
    "print(\"La moyenne de\", liste_de_nombres, \"vaut\", sum / len(liste_de_nombres))"
   ]
  },
  {
   "cell_type": "code",
   "execution_count": 22,
   "metadata": {},
   "outputs": [
    {
     "name": "stdout",
     "output_type": "stream",
     "text": [
      "i = 1\n",
      "i = 2\n",
      "i = 3\n",
      "i = 4\n",
      "i = 5\n",
      "i = 6\n",
      "i = 7\n",
      "i = 8\n",
      "i = 9\n",
      "Terminé\n"
     ]
    }
   ],
   "source": [
    "i = 1\n",
    "while i < 10 : \n",
    "    print(\"i =\", i)\n",
    "    i = i + 1\n",
    "print(\"Terminé\")"
   ]
  },
  {
   "cell_type": "code",
   "execution_count": 25,
   "metadata": {},
   "outputs": [
    {
     "name": "stdout",
     "output_type": "stream",
     "text": [
      "Programmer c est cool!\n",
      "Programmer c est cool!\n",
      "Programmer c est cool!\n",
      "Programmer c est cool!\n",
      "Programmer c est cool!\n"
     ]
    }
   ],
   "source": [
    "i =  0 \n",
    "while (i < 5) :\n",
    "    print('Programmer c est cool!')\n",
    "    i += 1"
   ]
  },
  {
   "cell_type": "code",
   "execution_count": 24,
   "metadata": {},
   "outputs": [
    {
     "name": "stdout",
     "output_type": "stream",
     "text": [
      "Programmer c est cool!\n",
      "Programmer c est cool!\n",
      "Programmer c est cool!\n",
      "Programmer c est cool!\n",
      "Programmer c est cool!\n"
     ]
    }
   ],
   "source": [
    "for i in range (1, 6) :\n",
    "    print('Programmer c est cool!')"
   ]
  },
  {
   "cell_type": "code",
   "execution_count": 26,
   "metadata": {},
   "outputs": [
    {
     "name": "stdout",
     "output_type": "stream",
     "text": [
      "1 est impair\n",
      "3 est impair\n",
      "5 est impair\n",
      "7 est impair\n",
      "9 est impair\n",
      "11 est impair\n",
      "13 est impair\n",
      "15 est impair\n",
      "17 est impair\n",
      "19 est impair\n",
      "Terminé\n"
     ]
    }
   ],
   "source": [
    "for i in range(1, 21) :\n",
    "    if i % 2 == 0 :\n",
    "        continue\n",
    "        print(\"résultat?\")\n",
    "    print(i, \"est impair\")\n",
    "print(\"Terminé\")"
   ]
  },
  {
   "cell_type": "code",
   "execution_count": 27,
   "metadata": {},
   "outputs": [
    {
     "name": "stdout",
     "output_type": "stream",
     "text": [
      "1 est impair\n",
      "Terminé\n"
     ]
    }
   ],
   "source": [
    "for i in range(1, 21) :\n",
    "    if i % 2 == 0 :\n",
    "        break\n",
    "    print(i, \"est impair\")\n",
    "print(\"Terminé\") "
   ]
  },
  {
   "cell_type": "code",
   "execution_count": null,
   "metadata": {},
   "outputs": [],
   "source": [
    "cpt = 0\n",
    "while cpt <= 3:\n",
    "    print(cpt)\n",
    "    cpt += 1"
   ]
  },
  {
   "cell_type": "code",
   "execution_count": 29,
   "metadata": {},
   "outputs": [
    {
     "name": "stdout",
     "output_type": "stream",
     "text": [
      "0 \n",
      "0 1 \n",
      "0 1 2 \n",
      "0 1 2 3 \n",
      "0 1 2 3 4 \n"
     ]
    }
   ],
   "source": [
    "for i in range(1, 6):\n",
    "    j = 0\n",
    "    while j < i:\n",
    "        print(j, end = \" \")\n",
    "        j += 1\n",
    "    print(\"\")"
   ]
  },
  {
   "cell_type": "code",
   "execution_count": null,
   "metadata": {},
   "outputs": [],
   "source": []
  }
 ],
 "metadata": {
  "celltoolbar": "Diaporama",
  "kernelspec": {
   "display_name": "Python 3.10.4 ('l1-python')",
   "language": "python",
   "name": "python3"
  },
  "language_info": {
   "codemirror_mode": {
    "name": "ipython",
    "version": 3
   },
   "file_extension": ".py",
   "mimetype": "text/x-python",
   "name": "python",
   "nbconvert_exporter": "python",
   "pygments_lexer": "ipython3",
   "version": "3.10.4"
  },
  "vscode": {
   "interpreter": {
    "hash": "8027ec71e14337f604091c1857d6dc8d766b29193d22a1005a058bfc9a646cfb"
   }
  }
 },
 "nbformat": 4,
 "nbformat_minor": 4
}
